{
 "cells": [
  {
   "cell_type": "markdown",
   "metadata": {},
   "source": [
    "# PLATEAUデータの読み込みと利用\n",
    "\n",
    "### PLATEAUデータの読み込み\n",
    "\n",
    "`load_dataset()` にIDを指定してデータセットを読み込みます。"
   ]
  },
  {
   "cell_type": "code",
   "execution_count": 1,
   "metadata": {},
   "outputs": [
    {
     "data": {
      "text/plain": [
       "Dataset(plateau-47201-naha-shi-2020)"
      ]
     },
     "execution_count": 1,
     "metadata": {},
     "output_type": "execute_result"
    }
   ],
   "source": [
    "from plateaukit import load_dataset\n",
    "\n",
    "naha = load_dataset(\"plateau-47201-naha-shi-2020\")\n",
    "naha"
   ]
  },
  {
   "cell_type": "markdown",
   "metadata": {},
   "source": [
    "データの取得やプレビューについては[範囲の選択と抽出](/plateaukit/library/area/)を参照してください。"
   ]
  },
  {
   "cell_type": "markdown",
   "metadata": {},
   "source": [
    "### GeoJSON への変換\n",
    "\n",
    "`.to_geojson()` メソッドを使ってデータセットを GeoJSON 形式に変換できます。"
   ]
  },
  {
   "cell_type": "code",
   "execution_count": 2,
   "metadata": {},
   "outputs": [
    {
     "data": {
      "application/vnd.jupyter.widget-view+json": {
       "model_id": "4e6d6003b76a415f91da92dc9a26b7e0",
       "version_major": 2,
       "version_minor": 0
      },
      "text/plain": [
       "Output()"
      ]
     },
     "metadata": {},
     "output_type": "display_data"
    },
    {
     "data": {
      "text/html": [
       "<pre style=\"white-space:pre;overflow-x:auto;line-height:normal;font-family:Menlo,'DejaVu Sans Mono',consolas,'Courier New',monospace\"></pre>\n"
      ],
      "text/plain": []
     },
     "metadata": {},
     "output_type": "display_data"
    },
    {
     "data": {
      "text/html": [
       "<pre style=\"white-space:pre;overflow-x:auto;line-height:normal;font-family:Menlo,'DejaVu Sans Mono',consolas,'Courier New',monospace\">\n",
       "</pre>\n"
      ],
      "text/plain": [
       "\n"
      ]
     },
     "metadata": {},
     "output_type": "display_data"
    }
   ],
   "source": [
    "naha.to_geojson(\"/tmp/plateau-47201-naha-shi-2020.geojson\", types=[\"bldg\"])"
   ]
  },
  {
   "cell_type": "code",
   "execution_count": 3,
   "metadata": {},
   "outputs": [
    {
     "name": "stdout",
     "output_type": "stream",
     "text": [
      "{'geometry': {'coordinates': [[[127.644351, 26.177417, 5.779],\n",
      "                               [127.644335, 26.177417, 5.779],\n",
      "                               [127.644335, 26.177395, 5.779],\n",
      "                               [127.64435, 26.177394, 5.779],\n",
      "                               [127.644351, 26.177417, 5.779]]],\n",
      "              'type': 'Polygon'},\n",
      " 'properties': {'buildingId': '47201-bldg-25768',\n",
      "                'gmlId': 'bldg_b036eb5f-048d-4f3b-b1b7-20f89c269fe7',\n",
      "                'riverFloodingRisk': {}},\n",
      " 'type': 'Feature'}\n"
     ]
    }
   ],
   "source": [
    "import json\n",
    "from pprint import pprint\n",
    "\n",
    "with open(\"/tmp/plateau-47201-naha-shi-2020.geojson\", \"r\") as f:\n",
    "    data = json.load(f)\n",
    "\n",
    "pprint(data[\"features\"][0])"
   ]
  },
  {
   "cell_type": "markdown",
   "metadata": {},
   "source": [
    "### CityJSON への変換\n",
    "\n",
    "`.to_cityjson()` メソッドを使ってデータセットを CityJSON 形式に変換できます。"
   ]
  },
  {
   "cell_type": "code",
   "execution_count": 4,
   "metadata": {},
   "outputs": [
    {
     "data": {
      "application/vnd.jupyter.widget-view+json": {
       "model_id": "5b47fd2747924ca09f59c8023647565e",
       "version_major": 2,
       "version_minor": 0
      },
      "text/plain": [
       "Output()"
      ]
     },
     "metadata": {},
     "output_type": "display_data"
    },
    {
     "data": {
      "text/html": [
       "<pre style=\"white-space:pre;overflow-x:auto;line-height:normal;font-family:Menlo,'DejaVu Sans Mono',consolas,'Courier New',monospace\"></pre>\n"
      ],
      "text/plain": []
     },
     "metadata": {},
     "output_type": "display_data"
    },
    {
     "data": {
      "text/html": [
       "<pre style=\"white-space:pre;overflow-x:auto;line-height:normal;font-family:Menlo,'DejaVu Sans Mono',consolas,'Courier New',monospace\">\n",
       "</pre>\n"
      ],
      "text/plain": [
       "\n"
      ]
     },
     "metadata": {},
     "output_type": "display_data"
    }
   ],
   "source": [
    "naha.to_cityjson(\"/tmp/plateau-47201-naha-shi-2020.city.json\", types=[\"bldg\"])"
   ]
  },
  {
   "cell_type": "code",
   "execution_count": 5,
   "metadata": {},
   "outputs": [
    {
     "name": "stdout",
     "output_type": "stream",
     "text": [
      "('bldg_b036eb5f-048d-4f3b-b1b7-20f89c269fe7',\n",
      " {'attributes': {'building_id': '47201-bldg-25768', 'river_flooding_risk': {}},\n",
      "  'geometry': [{'boundaries': [[[[0, 1, 2, 3]],\n",
      "                                [[0, 3, 4, 5]],\n",
      "                                [[3, 2, 6, 4]],\n",
      "                                [[2, 1, 7, 6]],\n",
      "                                [[1, 0, 5, 7]],\n",
      "                                [[5, 4, 6, 7]]]],\n",
      "                'lod': '1',\n",
      "                'type': 'Solid'}],\n",
      "  'type': 'Building'})\n"
     ]
    }
   ],
   "source": [
    "import json\n",
    "from pprint import pprint\n",
    "\n",
    "with open(\"/tmp/plateau-47201-naha-shi-2020.city.json\", \"r\") as f:\n",
    "    data = json.load(f)\n",
    "\n",
    "pprint(list(data[\"CityObjects\"].items())[0])"
   ]
  }
 ],
 "metadata": {
  "kernelspec": {
   "display_name": "plateaukit",
   "language": "python",
   "name": "plateaukit"
  },
  "language_info": {
   "codemirror_mode": {
    "name": "ipython",
    "version": 3
   },
   "file_extension": ".py",
   "mimetype": "text/x-python",
   "name": "python",
   "nbconvert_exporter": "python",
   "pygments_lexer": "ipython3",
   "version": "3.11.9"
  },
  "widgets": {
   "application/vnd.jupyter.widget-state+json": {
    "state": {
     "257bb6a42cc640d8a2b7205fab4eec52": {
      "model_module": "@jupyter-widgets/base",
      "model_module_version": "2.0.0",
      "model_name": "LayoutModel",
      "state": {}
     },
     "4e6d6003b76a415f91da92dc9a26b7e0": {
      "model_module": "@jupyter-widgets/output",
      "model_module_version": "1.0.0",
      "model_name": "OutputModel",
      "state": {
       "layout": "IPY_MODEL_7bf7c1a2fb944c6b932a57e726a22ac3",
       "outputs": [
        {
         "data": {
          "text/html": "<pre style=\"white-space:pre;overflow-x:auto;line-height:normal;font-family:Menlo,'DejaVu Sans Mono',consolas,'Courier New',monospace\">Processing... <span style=\"color: #008000; text-decoration-color: #008000\">Done</span> <span style=\"color: #729c1f; text-decoration-color: #729c1f\">━━━━━━━━━━━━━━━━━━━━━━━━━━━━━━━━━━━━━━━━</span> <span style=\"color: #800080; text-decoration-color: #800080\">100%</span> <span style=\"color: #008080; text-decoration-color: #008080\">0:00:00</span>\n<span style=\"color: #008080; text-decoration-color: #008080\">Progress #1</span>        <span style=\"color: #f92672; text-decoration-color: #f92672\">━━━━━━━━━━━━━━━━━━━━━━━━━━━━━━━━━━━━━━━</span><span style=\"color: #3a3a3a; text-decoration-color: #3a3a3a\">╺</span> <span style=\"color: #800080; text-decoration-color: #800080\"> 98%</span> <span style=\"color: #008080; text-decoration-color: #008080\">0:00:01</span>\n</pre>\n",
          "text/plain": "Processing... \u001b[32mDone\u001b[0m \u001b[38;2;114;156;31m━━━━━━━━━━━━━━━━━━━━━━━━━━━━━━━━━━━━━━━━\u001b[0m \u001b[35m100%\u001b[0m \u001b[36m0:00:00\u001b[0m\n\u001b[36mProgress #1\u001b[0m        \u001b[38;2;249;38;114m━━━━━━━━━━━━━━━━━━━━━━━━━━━━━━━━━━━━━━━\u001b[0m\u001b[38;5;237m╺\u001b[0m \u001b[35m 98%\u001b[0m \u001b[36m0:00:01\u001b[0m\n"
         },
         "metadata": {},
         "output_type": "display_data"
        }
       ]
      }
     },
     "5b47fd2747924ca09f59c8023647565e": {
      "model_module": "@jupyter-widgets/output",
      "model_module_version": "1.0.0",
      "model_name": "OutputModel",
      "state": {
       "layout": "IPY_MODEL_257bb6a42cc640d8a2b7205fab4eec52",
       "outputs": [
        {
         "data": {
          "text/html": "<pre style=\"white-space:pre;overflow-x:auto;line-height:normal;font-family:Menlo,'DejaVu Sans Mono',consolas,'Courier New',monospace\">Processing... <span style=\"color: #008000; text-decoration-color: #008000\">Done</span> <span style=\"color: #729c1f; text-decoration-color: #729c1f\">━━━━━━━━━━━━━━━━━━━━━━━━━━━━━━━━━━━━━━━━</span> <span style=\"color: #800080; text-decoration-color: #800080\">100%</span> <span style=\"color: #008080; text-decoration-color: #008080\">0:00:00</span>\n</pre>\n",
          "text/plain": "Processing... \u001b[32mDone\u001b[0m \u001b[38;2;114;156;31m━━━━━━━━━━━━━━━━━━━━━━━━━━━━━━━━━━━━━━━━\u001b[0m \u001b[35m100%\u001b[0m \u001b[36m0:00:00\u001b[0m\n"
         },
         "metadata": {},
         "output_type": "display_data"
        }
       ]
      }
     },
     "7bf7c1a2fb944c6b932a57e726a22ac3": {
      "model_module": "@jupyter-widgets/base",
      "model_module_version": "2.0.0",
      "model_name": "LayoutModel",
      "state": {}
     }
    },
    "version_major": 2,
    "version_minor": 0
   }
  }
 },
 "nbformat": 4,
 "nbformat_minor": 4
}
