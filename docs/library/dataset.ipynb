{
 "cells": [
  {
   "cell_type": "markdown",
   "metadata": {},
   "source": [
    "# PLATEAUデータの読み込みと利用\n",
    "\n",
    "### PLATEAUデータの読み込み\n",
    "\n",
    "`load_dataset()` にIDを指定してデータセットを読み込みます。"
   ]
  },
  {
   "cell_type": "code",
   "execution_count": 1,
   "metadata": {},
   "outputs": [
    {
     "data": {
      "text/plain": [
       "Dataset(plateau-47201-naha-shi-2020)"
      ]
     },
     "execution_count": 1,
     "metadata": {},
     "output_type": "execute_result"
    }
   ],
   "source": [
    "from plateaukit import load_dataset\n",
    "\n",
    "naha = load_dataset(\"plateau-47201-naha-shi-2020\")\n",
    "\n",
    "naha"
   ]
  },
  {
   "cell_type": "markdown",
   "metadata": {},
   "source": [
    "### GeoJSON への変換\n",
    "\n",
    "`.to_geojson()` メソッドを使ってデータセットを GeoJSON 形式に変換できます。"
   ]
  },
  {
   "cell_type": "code",
   "execution_count": 2,
   "metadata": {},
   "outputs": [
    {
     "data": {
      "application/vnd.jupyter.widget-view+json": {
       "model_id": "0c03c2069bc041c0b173024ec6f09d20",
       "version_major": 2,
       "version_minor": 0
      },
      "text/plain": [
       "Done ━━━━━━━━━━━━━━━━━━━━━━━━━━━━━━━━━━━━━━━━ 100% 0:00:00"
      ]
     },
     "metadata": {},
     "output_type": "display_data"
    },
    {
     "data": {
      "text/html": [
       "<pre style=\"white-space:pre;overflow-x:auto;line-height:normal;font-family:Menlo,'DejaVu Sans Mono',consolas,'Courier New',monospace\"></pre>\n"
      ],
      "text/plain": []
     },
     "metadata": {},
     "output_type": "display_data"
    },
    {
     "data": {
      "text/html": [
       "<pre style=\"white-space:pre;overflow-x:auto;line-height:normal;font-family:Menlo,'DejaVu Sans Mono',consolas,'Courier New',monospace\">\n",
       "</pre>\n"
      ],
      "text/plain": [
       "\n"
      ]
     },
     "metadata": {},
     "output_type": "display_data"
    }
   ],
   "source": [
    "naha.to_geojson(\"/tmp/plateau-47201-naha-shi-2020.geojson\", types=[\"bldg\"])\n"
   ]
  },
  {
   "cell_type": "code",
   "execution_count": 3,
   "metadata": {},
   "outputs": [
    {
     "name": "stdout",
     "output_type": "stream",
     "text": [
      "{'geometry': {'coordinates': [[[127.644351, 26.177417],\n",
      "                               [127.644335, 26.177417],\n",
      "                               [127.644335, 26.177395],\n",
      "                               [127.64435, 26.177394],\n",
      "                               [127.644351, 26.177417]]],\n",
      "              'type': 'Polygon'},\n",
      " 'properties': {'id': 'bldg_b036eb5f-048d-4f3b-b1b7-20f89c269fe7',\n",
      "                'measuredHeight': None},\n",
      " 'type': 'Feature'}\n"
     ]
    }
   ],
   "source": [
    "import json\n",
    "from pprint import pprint\n",
    "\n",
    "with open(\"/tmp/plateau-47201-naha-shi-2020.geojson\", \"r\") as f:\n",
    "    data = json.load(f)\n",
    "\n",
    "pprint(data[\"features\"][0])"
   ]
  },
  {
   "cell_type": "markdown",
   "metadata": {},
   "source": [
    "### CityJSON への変換\n",
    "\n",
    "`.to_cityjson()` メソッドを使ってデータセットを CityJSON 形式に変換できます。"
   ]
  },
  {
   "cell_type": "code",
   "execution_count": 4,
   "metadata": {},
   "outputs": [
    {
     "data": {
      "application/vnd.jupyter.widget-view+json": {
       "model_id": "1eafe99c635b42ed8f0ffab28e0d8eff",
       "version_major": 2,
       "version_minor": 0
      },
      "text/plain": [
       "Done ━━━━━━━━━━━━━━━━━━━━━━━━━━━━━━━━━━━━━━━━ 100% 0:00:00"
      ]
     },
     "metadata": {},
     "output_type": "display_data"
    },
    {
     "data": {
      "text/html": [
       "<pre style=\"white-space:pre;overflow-x:auto;line-height:normal;font-family:Menlo,'DejaVu Sans Mono',consolas,'Courier New',monospace\"></pre>\n"
      ],
      "text/plain": []
     },
     "metadata": {},
     "output_type": "display_data"
    },
    {
     "data": {
      "text/html": [
       "<pre style=\"white-space:pre;overflow-x:auto;line-height:normal;font-family:Menlo,'DejaVu Sans Mono',consolas,'Courier New',monospace\">\n",
       "</pre>\n"
      ],
      "text/plain": [
       "\n"
      ]
     },
     "metadata": {},
     "output_type": "display_data"
    }
   ],
   "source": [
    "naha.to_cityjson(\"/tmp/plateau-47201-naha-shi-2020.city.json\", types=[\"bldg\"])"
   ]
  },
  {
   "cell_type": "code",
   "execution_count": 5,
   "metadata": {},
   "outputs": [
    {
     "name": "stdout",
     "output_type": "stream",
     "text": [
      "{'geometry': [{'boundaries': [[[[0, 1, 2, 3]],\n",
      "                               [[0, 3, 4, 5]],\n",
      "                               [[3, 2, 6, 4]],\n",
      "                               [[2, 1, 7, 6]],\n",
      "                               [[1, 0, 5, 7]],\n",
      "                               [[5, 4, 6, 7]]]],\n",
      "               'lod': '1',\n",
      "               'type': 'Solid'}],\n",
      " 'type': 'Building'}\n"
     ]
    }
   ],
   "source": [
    "import json\n",
    "from pprint import pprint\n",
    "\n",
    "with open(\"/tmp/plateau-47201-naha-shi-2020.city.json\", \"r\") as f:\n",
    "    data = json.load(f)\n",
    "\n",
    "pprint(list(data[\"CityObjects\"].items())[0])"
   ]
  }
 ],
 "metadata": {
  "kernelspec": {
   "display_name": ".venv",
   "language": "python",
   "name": "python3"
  },
  "language_info": {
   "codemirror_mode": {
    "name": "ipython",
    "version": 3
   },
   "file_extension": ".py",
   "mimetype": "text/x-python",
   "name": "python",
   "nbconvert_exporter": "python",
   "pygments_lexer": "ipython3",
   "version": "3.11.6"
  }
 },
 "nbformat": 4,
 "nbformat_minor": 2
}
